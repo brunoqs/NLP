{
 "cells": [
  {
   "cell_type": "markdown",
   "metadata": {},
   "source": [
    "# Word2Vec e Doc2Vec"
   ]
  },
  {
   "cell_type": "code",
   "execution_count": 2,
   "metadata": {},
   "outputs": [],
   "source": [
    "import os\n",
    "from normalib.lexical import Normalization\n",
    "from gensim.models import Word2Vec, Doc2Vec\n",
    "from gensim.models.doc2vec import TaggedDocument"
   ]
  },
  {
   "cell_type": "markdown",
   "metadata": {},
   "source": [
    "#### Instânciando a biblioteca criada e buscando os textos de tecnologia e mercado"
   ]
  },
  {
   "cell_type": "code",
   "execution_count": 8,
   "metadata": {},
   "outputs": [],
   "source": [
    "n = Normalization()\n",
    "\n",
    "corpora_path = 'Crawler/data/corpora/'\n",
    "files_tecnologia = os.listdir('{}/tecnologia/'.format(corpora_path))\n",
    "files_tecnologia = ['{}/tecnologia/{}'.format(corpora_path,f) for f in files_tecnologia if f != '.DS_Store']\n",
    "files_mercado = os.listdir('{}/mercado/'.format(corpora_path))\n",
    "files_mercado = ['{}/mercado/{}'.format(corpora_path,f) for f in files_mercado if f != '.DS_Store']"
   ]
  },
  {
   "cell_type": "markdown",
   "metadata": {},
   "source": [
    "# Word2Vec\n",
    "#### Preparando a estrutura de dados da forma que o Word2Vec aceita"
   ]
  },
  {
   "cell_type": "code",
   "execution_count": 11,
   "metadata": {},
   "outputs": [
    {
     "name": "stdout",
     "output_type": "stream",
     "text": [
      "Numero de sentenças corpus tecnologia: 3726\n"
     ]
    }
   ],
   "source": [
    "all_sentences_tecnologia = []\n",
    "for file in files_tecnologia:\n",
    "    with open(file, 'r') as text_file:\n",
    "        lines = text_file.readlines()\n",
    "        for line in lines:\n",
    "            line = n.to_lower_case(line)\n",
    "            sentences = n.tokenize_sentences(line)\n",
    "            sentences = [n.tokenize_words(sent) for sent in sentences]\n",
    "            all_sentences_tecnologia.extend(sentences)\n",
    "\n",
    "print(\"Numero de sentenças corpus tecnologia: {}\".format(len(all_sentences_tecnologia)))"
   ]
  },
  {
   "cell_type": "code",
   "execution_count": 12,
   "metadata": {},
   "outputs": [
    {
     "name": "stdout",
     "output_type": "stream",
     "text": [
      "Numero de sentenças corpus mercado: 7408\n"
     ]
    }
   ],
   "source": [
    "all_sentences_mercado = []\n",
    "for file in files_mercado:\n",
    "    with open(file, 'r') as text_file:\n",
    "        lines = text_file.readlines()\n",
    "        for line in lines:\n",
    "            line = n.to_lower_case(line)\n",
    "            sentences = n.tokenize_sentences(line)\n",
    "            sentences = [n.tokenize_words(sent) for sent in sentences]\n",
    "            all_sentences_mercado.extend(sentences)\n",
    "\n",
    "print(\"Numero de sentenças corpus mercado: {}\".format(len(all_sentences_mercado)))"
   ]
  },
  {
   "cell_type": "markdown",
   "metadata": {},
   "source": [
    "#### Calculando as 10 palavras mais similares em relação a uma outra nos corpus de tecnologia e mercado, respectivamente"
   ]
  },
  {
   "cell_type": "code",
   "execution_count": 16,
   "metadata": {},
   "outputs": [
    {
     "data": {
      "text/plain": [
       "[('mint', 0.980950117111206),\n",
       " ('ubuntu', 0.9757250547409058),\n",
       " ('windows', 0.9586097002029419),\n",
       " ('mundo', 0.9580522775650024),\n",
       " ('10.04', 0.9571369886398315),\n",
       " ('sistema', 0.9561644792556763),\n",
       " ('macos.a', 0.9511534571647644),\n",
       " ('gizmodo', 0.9484773874282837),\n",
       " ('derivado.instalando', 0.9483177661895752),\n",
       " ('kali', 0.9482779502868652)]"
      ]
     },
     "execution_count": 16,
     "metadata": {},
     "output_type": "execute_result"
    }
   ],
   "source": [
    "w2vmodel_tecnologia = Word2Vec(all_sentences_tecnologia, size=200, window=5, min_count=3, workers=4)\n",
    "w2vmodel_tecnologia.wv.most_similar('linux')"
   ]
  },
  {
   "cell_type": "code",
   "execution_count": 17,
   "metadata": {},
   "outputs": [
    {
     "data": {
      "text/plain": [
       "[('posso', 0.9947916269302368),\n",
       " ('cenário', 0.9939063787460327),\n",
       " ('gosta', 0.993790864944458),\n",
       " ('usa', 0.993590235710144),\n",
       " ('graeber', 0.993125319480896),\n",
       " ('estará', 0.9930018782615662),\n",
       " ('fazendo', 0.9914147257804871),\n",
       " ('pouco', 0.9913520812988281),\n",
       " ('senso', 0.9912126064300537),\n",
       " ('presidenciais', 0.9911899566650391)]"
      ]
     },
     "execution_count": 17,
     "metadata": {},
     "output_type": "execute_result"
    }
   ],
   "source": [
    "w2vmodel_mercado = Word2Vec(all_sentences_mercado, size=200, window=5, min_count=3, workers=4)\n",
    "w2vmodel_mercado.wv.most_similar('dinheiro')"
   ]
  },
  {
   "cell_type": "code",
   "execution_count": null,
   "metadata": {},
   "outputs": [],
   "source": []
  }
 ],
 "metadata": {
  "kernelspec": {
   "display_name": "Python 3",
   "language": "python",
   "name": "python3"
  },
  "language_info": {
   "codemirror_mode": {
    "name": "ipython",
    "version": 3
   },
   "file_extension": ".py",
   "mimetype": "text/x-python",
   "name": "python",
   "nbconvert_exporter": "python",
   "pygments_lexer": "ipython3",
   "version": "3.5.3"
  }
 },
 "nbformat": 4,
 "nbformat_minor": 2
}
