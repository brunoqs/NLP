{
 "cells": [
  {
   "cell_type": "markdown",
   "metadata": {},
   "source": [
    "# Word2Vec e Doc2Vec"
   ]
  },
  {
   "cell_type": "code",
   "execution_count": 2,
   "metadata": {},
   "outputs": [],
   "source": [
    "import os\n",
    "from normalib.lexical import Normalization\n",
    "from gensim.models import Word2Vec, Doc2Vec\n",
    "from gensim.models.doc2vec import TaggedDocument"
   ]
  },
  {
   "cell_type": "markdown",
   "metadata": {},
   "source": [
    "#### Instânciando a biblioteca criada e buscando os textos de tecnologia e mercado"
   ]
  },
  {
   "cell_type": "code",
   "execution_count": 3,
   "metadata": {},
   "outputs": [],
   "source": [
    "n = Normalization()\n",
    "\n",
    "corpora_path = 'Crawler/data/corpora/'\n",
    "files_tecnologia = os.listdir('{}/tecnologia/'.format(corpora_path))\n",
    "files_tecnologia = ['{}/tecnologia/{}'.format(corpora_path,f) for f in files_tecnologia if f != '.DS_Store']\n",
    "files_mercado = os.listdir('{}/mercado/'.format(corpora_path))\n",
    "files_mercado = ['{}/mercado/{}'.format(corpora_path,f) for f in files_mercado if f != '.DS_Store']"
   ]
  },
  {
   "cell_type": "markdown",
   "metadata": {},
   "source": [
    "# Word2Vec\n",
    "#### Preparando a estrutura de dados da forma que o Word2Vec aceita"
   ]
  },
  {
   "cell_type": "code",
   "execution_count": 4,
   "metadata": {},
   "outputs": [
    {
     "name": "stdout",
     "output_type": "stream",
     "text": [
      "Numero de sentenças corpus tecnologia: 3726\n"
     ]
    }
   ],
   "source": [
    "all_sentences_tecnologia = []\n",
    "for file in files_tecnologia:\n",
    "    with open(file, 'r') as text_file:\n",
    "        lines = text_file.readlines()\n",
    "        for line in lines:\n",
    "            line = n.to_lower_case(line)\n",
    "            sentences = n.tokenize_sentences(line)\n",
    "            sentences = [n.tokenize_words(sent) for sent in sentences]\n",
    "            all_sentences_tecnologia.extend(sentences)\n",
    "\n",
    "print(\"Numero de sentenças corpus tecnologia: {}\".format(len(all_sentences_tecnologia)))"
   ]
  },
  {
   "cell_type": "code",
   "execution_count": 5,
   "metadata": {},
   "outputs": [
    {
     "name": "stdout",
     "output_type": "stream",
     "text": [
      "Numero de sentenças corpus mercado: 7408\n"
     ]
    }
   ],
   "source": [
    "all_sentences_mercado = []\n",
    "for file in files_mercado:\n",
    "    with open(file, 'r') as text_file:\n",
    "        lines = text_file.readlines()\n",
    "        for line in lines:\n",
    "            line = n.to_lower_case(line)\n",
    "            sentences = n.tokenize_sentences(line)\n",
    "            sentences = [n.tokenize_words(sent) for sent in sentences]\n",
    "            all_sentences_mercado.extend(sentences)\n",
    "\n",
    "print(\"Numero de sentenças corpus mercado: {}\".format(len(all_sentences_mercado)))"
   ]
  },
  {
   "cell_type": "markdown",
   "metadata": {},
   "source": [
    "#### Calculando as 10 palavras mais similares em relação a uma outra nos corpus de tecnologia e mercado, respectivamente.\n",
    "#### Será calculado 3 palavras para cada corpus"
   ]
  },
  {
   "cell_type": "code",
   "execution_count": 8,
   "metadata": {},
   "outputs": [
    {
     "data": {
      "text/plain": [
       "[('mint', 0.9719254970550537),\n",
       " ('derivado.instalando', 0.9555950164794922),\n",
       " ('minto', 0.9533777236938477),\n",
       " ('ubuntu', 0.9506325721740723),\n",
       " ('kernel', 0.9497767686843872),\n",
       " ('derivados', 0.9452481269836426),\n",
       " ('kali', 0.944773256778717),\n",
       " ('redor', 0.9424254298210144),\n",
       " ('18.3', 0.9421452879905701),\n",
       " ('derivado', 0.9416871070861816)]"
      ]
     },
     "execution_count": 8,
     "metadata": {},
     "output_type": "execute_result"
    }
   ],
   "source": [
    "w2vmodel_tecnologia = Word2Vec(all_sentences_tecnologia, size=200, window=5, min_count=3, workers=4)\n",
    "w2vmodel_tecnologia.wv.most_similar('linux')"
   ]
  },
  {
   "cell_type": "code",
   "execution_count": 9,
   "metadata": {},
   "outputs": [
    {
     "data": {
      "text/plain": [
       "[('celular', 0.9936665296554565),\n",
       " ('vídeo', 0.9934778213500977),\n",
       " ('game', 0.9930947422981262),\n",
       " ('stremio', 0.991606593132019),\n",
       " ('todo', 0.991492509841919),\n",
       " ('smartphone', 0.9912481307983398),\n",
       " ('chamou', 0.991230845451355),\n",
       " ('touchpad', 0.9911835193634033),\n",
       " ('material', 0.9911742210388184),\n",
       " ('dispositivo', 0.991145133972168)]"
      ]
     },
     "execution_count": 9,
     "metadata": {},
     "output_type": "execute_result"
    }
   ],
   "source": [
    "w2vmodel_tecnologia.wv.most_similar('computador')"
   ]
  },
  {
   "cell_type": "code",
   "execution_count": 10,
   "metadata": {},
   "outputs": [
    {
     "data": {
      "text/plain": [
       "[('macos', 0.9910445809364319),\n",
       " ('android', 0.9886826276779175),\n",
       " ('suporte', 0.9884665012359619),\n",
       " ('entanto', 0.9877304434776306),\n",
       " ('mac', 0.9873590469360352),\n",
       " ('launchpad', 0.9859412908554077),\n",
       " ('arch', 0.985488772392273),\n",
       " ('kernel', 0.9840272665023804),\n",
       " ('lts', 0.9840036630630493),\n",
       " ('dx11', 0.9836246371269226)]"
      ]
     },
     "execution_count": 10,
     "metadata": {},
     "output_type": "execute_result"
    }
   ],
   "source": [
    "w2vmodel_tecnologia.wv.most_similar('windows')"
   ]
  },
  {
   "cell_type": "code",
   "execution_count": 19,
   "metadata": {},
   "outputs": [
    {
     "data": {
      "text/plain": [
       "[('senso', 0.9974635243415833),\n",
       " ('usado', 0.9952303171157837),\n",
       " ('negócio', 0.9950326085090637),\n",
       " ('assim', 0.9936304092407227),\n",
       " ('heineken', 0.9934155344963074),\n",
       " ('funcionar', 0.9927018880844116),\n",
       " ('mostra', 0.992699384689331),\n",
       " ('contribuinte', 0.9924260973930359),\n",
       " ('visto', 0.9919905662536621),\n",
       " ('tudo', 0.9918570518493652)]"
      ]
     },
     "execution_count": 19,
     "metadata": {},
     "output_type": "execute_result"
    }
   ],
   "source": [
    "w2vmodel_mercado = Word2Vec(all_sentences_mercado, size=200, window=5, min_count=3, workers=4)\n",
    "w2vmodel_mercado.wv.most_similar('dinheiro')"
   ]
  },
  {
   "cell_type": "code",
   "execution_count": 14,
   "metadata": {},
   "outputs": [
    {
     "data": {
      "text/plain": [
       "[('ministro', 0.9868409633636475),\n",
       " ('posteriormente', 0.9790926575660706),\n",
       " ('adiamento', 0.9770197868347168),\n",
       " ('apreciação', 0.9759272933006287),\n",
       " ('vinculada', 0.9744375348091125),\n",
       " ('aprovação', 0.9736068844795227),\n",
       " ('uniu', 0.9722857475280762),\n",
       " ('nacionalcâmara1', 0.9703745245933533),\n",
       " ('admissibilidade', 0.9700789451599121),\n",
       " ('relator', 0.9697054028511047)]"
      ]
     },
     "execution_count": 14,
     "metadata": {},
     "output_type": "execute_result"
    }
   ],
   "source": [
    "w2vmodel_mercado.wv.most_similar('economia')"
   ]
  },
  {
   "cell_type": "code",
   "execution_count": 17,
   "metadata": {},
   "outputs": [
    {
     "data": {
      "text/plain": [
       "[('congresso', 0.9667510986328125),\n",
       " ('partido', 0.9649776816368103),\n",
       " ('texto', 0.9611717462539673),\n",
       " ('encaminhada', 0.9588985443115234),\n",
       " ('telefonou', 0.9567490220069885),\n",
       " ('promulgação', 0.9564669728279114),\n",
       " ('constitucionalidade', 0.9538384079933167),\n",
       " ('bolsonaro', 0.9530772566795349),\n",
       " ('deferência', 0.951181173324585),\n",
       " ('líder', 0.9495497941970825)]"
      ]
     },
     "execution_count": 17,
     "metadata": {},
     "output_type": "execute_result"
    }
   ],
   "source": [
    "w2vmodel_mercado.wv.most_similar('governo')"
   ]
  },
  {
   "cell_type": "markdown",
   "metadata": {},
   "source": [
    "#### Para podermos melhorar o resultado da similaridade do Word2Vec, seria interessante utilizar também algo que entenda a semântica da palavra, para não usar somente vetores"
   ]
  },
  {
   "cell_type": "markdown",
   "metadata": {},
   "source": [
    "#### Para compararmos 2 corpus diferentes usando Word2Vec, poderiamos gerar um estrutura de textos sem stopwords e executar o Word2Vec das duas estruturas de ambos corpus, somar os seus vetores e em seguida analisar a diferença entre os vetores."
   ]
  },
  {
   "cell_type": "markdown",
   "metadata": {},
   "source": [
    "# Doc2Vec\n",
    "#### Preparando a estrutura de dados da forma que o Doc2Vec aceita"
   ]
  },
  {
   "cell_type": "code",
   "execution_count": 20,
   "metadata": {},
   "outputs": [
    {
     "name": "stdout",
     "output_type": "stream",
     "text": [
      "Number of documents: 1095\n"
     ]
    }
   ],
   "source": [
    "all_documents = []\n",
    "all_files = files_tecnologia\n",
    "all_files.extend(files_mercado)\n",
    "for file in all_files:\n",
    "    with open(file, 'r') as text_file:\n",
    "        document = ' '.join(text_file.readlines())\n",
    "        document = n.to_lower_case(document)\n",
    "        document_tokens = n.tokenize_words(document)\n",
    "        all_documents.append(document_tokens)\n",
    "print(\"Number of documents: {}\".format(len(all_documents)))\n",
    "tagged_documents = [TaggedDocument(words=d, tags=[str(i)]) for i, d in enumerate(all_documents)]"
   ]
  },
  {
   "cell_type": "code",
   "execution_count": 21,
   "metadata": {},
   "outputs": [],
   "source": [
    "d2vmodel = Doc2Vec(tagged_documents, vector_size=20, window=2, min_count=1, workers=4)"
   ]
  },
  {
   "cell_type": "markdown",
   "metadata": {},
   "source": [
    "#### Vamos comparar alguns documentos, para isso precisamos usar a função infer_vector passando como argumentos a lista de tokens de um documento"
   ]
  },
  {
   "cell_type": "code",
   "execution_count": 24,
   "metadata": {},
   "outputs": [],
   "source": [
    "vector_tec = d2vmodel.infer_vector(all_documents[0])\n",
    "vector_merc = d2vmodel.infer_vector(all_documents[len(all_documents)-1])\n",
    "\n",
    "vector_tec2 = d2vmodel.infer_vector(all_documents[1])\n",
    "vector_merc2 = d2vmodel.infer_vector(all_documents[len(all_documents)-2])\n",
    "\n",
    "vector_tec3 = d2vmodel.infer_vector(all_documents[2])\n",
    "vector_merc3 = d2vmodel.infer_vector(all_documents[len(all_documents)-3])"
   ]
  },
  {
   "cell_type": "markdown",
   "metadata": {},
   "source": [
    "#### Para compararmos os vetores vou utilizar o mesmo método que o Professor Erick utilizou em sala, a distância de coseno"
   ]
  },
  {
   "cell_type": "code",
   "execution_count": 26,
   "metadata": {},
   "outputs": [
    {
     "name": "stdout",
     "output_type": "stream",
     "text": [
      "0.6723589897155762\n",
      "0.7398795485496521\n",
      "0.6885780096054077\n"
     ]
    }
   ],
   "source": [
    "from scipy import spatial\n",
    "\n",
    "print(1 - spatial.distance.cosine(vector_tec, vector_merc))\n",
    "print(1 - spatial.distance.cosine(vector_tec2, vector_merc2))\n",
    "print(1 - spatial.distance.cosine(vector_tec3, vector_merc3))"
   ]
  },
  {
   "cell_type": "markdown",
   "metadata": {},
   "source": [
    "#### Quanto mais o resultado se aproximar de 1, mais similar são os documentos, como podemos ver os documentos não são tão iguais, mas também já era de se esperar, pois foram comparados documentos de tecnologia e mercado.\n",
    "#### Vamos comparar documentos do mesmo assunto para ver a diferença"
   ]
  },
  {
   "cell_type": "code",
   "execution_count": 28,
   "metadata": {},
   "outputs": [
    {
     "name": "stdout",
     "output_type": "stream",
     "text": [
      "0.7478671073913574\n"
     ]
    }
   ],
   "source": [
    "print(1 - spatial.distance.cosine(vector_tec, vector_tec3))"
   ]
  },
  {
   "cell_type": "markdown",
   "metadata": {},
   "source": [
    "#### Não foi uma grande diferença, mas teve uma pequena melhoria"
   ]
  }
 ],
 "metadata": {
  "kernelspec": {
   "display_name": "Python 3",
   "language": "python",
   "name": "python3"
  },
  "language_info": {
   "codemirror_mode": {
    "name": "ipython",
    "version": 3
   },
   "file_extension": ".py",
   "mimetype": "text/x-python",
   "name": "python",
   "nbconvert_exporter": "python",
   "pygments_lexer": "ipython3",
   "version": "3.5.3"
  }
 },
 "nbformat": 4,
 "nbformat_minor": 2
}
